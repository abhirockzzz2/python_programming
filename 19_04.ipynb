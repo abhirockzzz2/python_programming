{
  "nbformat": 4,
  "nbformat_minor": 0,
  "metadata": {
    "colab": {
      "provenance": []
    },
    "kernelspec": {
      "name": "python3",
      "display_name": "Python 3"
    },
    "language_info": {
      "name": "python"
    }
  },
  "cells": [
    {
      "cell_type": "code",
      "execution_count": 1,
      "metadata": {
        "colab": {
          "base_uri": "https://localhost:8080/"
        },
        "id": "Rre0zdhMBE79",
        "outputId": "fa9b0e8a-f18c-49f8-f845-984d8087a5b5"
      },
      "outputs": [
        {
          "output_type": "stream",
          "name": "stdout",
          "text": [
            "Enter a number: 12\n",
            "not a prime number\n"
          ]
        }
      ],
      "source": [
        "def primeornot(num):\n",
        "    if num < 2:\n",
        "        return False\n",
        "    for i in range(2, num):\n",
        "        if num % i == 0:\n",
        "            return False\n",
        "    return True\n",
        "\n",
        "num = int(input(\"Enter a number: \"))\n",
        "\n",
        "if primeornot(num):\n",
        "    print(\"prime number\")\n",
        "else:\n",
        "    print(\"not a prime number\")"
      ]
    },
    {
      "cell_type": "code",
      "source": [],
      "metadata": {
        "id": "kxZIwReaBOUZ"
      },
      "execution_count": null,
      "outputs": []
    },
    {
      "cell_type": "code",
      "source": [
        "def odd_even(num):\n",
        "    num = num % 2\n",
        "\n",
        "    if num > 0:\n",
        "        print(\"odd number\")\n",
        "    else:\n",
        "        print(\"even number\")\n",
        "\n",
        "num = int(input(\"Enter the number: \"))\n",
        "\n",
        "odd_even(num)"
      ],
      "metadata": {
        "colab": {
          "base_uri": "https://localhost:8080/"
        },
        "id": "LSoLapuoBhwn",
        "outputId": "6354a180-d770-460c-fa2b-eb104ec826aa"
      },
      "execution_count": 2,
      "outputs": [
        {
          "output_type": "stream",
          "name": "stdout",
          "text": [
            "Enter the number: 2\n",
            "even number\n"
          ]
        }
      ]
    },
    {
      "cell_type": "code",
      "source": [],
      "metadata": {
        "id": "0-WYdEveBvW9"
      },
      "execution_count": null,
      "outputs": []
    }
  ]
}